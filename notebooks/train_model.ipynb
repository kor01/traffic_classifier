{
 "cells": [
  {
   "cell_type": "markdown",
   "metadata": {},
   "source": [
    "### Train, Validate and Test the Model"
   ]
  },
  {
   "cell_type": "code",
   "execution_count": 3,
   "metadata": {
    "collapsed": true
   },
   "outputs": [],
   "source": [
    "import numpy as np\n",
    "import tensorflow as tf\n",
    "from sklearn import metrics\n",
    "from traffic_net.infer import load_model"
   ]
  },
  {
   "cell_type": "code",
   "execution_count": 2,
   "metadata": {
    "scrolled": true
   },
   "outputs": [
    {
     "name": "stderr",
     "output_type": "stream",
     "text": [
      "[Wed Oct 11 05:18:47 2017] [0] epoch average loss [2.487164] validate precision [0.764626] xent [0.865006]\n",
      "[Wed Oct 11 05:18:48 2017] [0] epoch precision [0.762629] xent [0.944306]\n",
      "[Wed Oct 11 05:18:49 2017] [1] epoch average loss [0.752997] validate precision [0.883673] xent [0.410315]\n",
      "[Wed Oct 11 05:18:49 2017] [1] epoch precision [0.857007] xent [0.577322]\n",
      "[Wed Oct 11 05:18:51 2017] [2] epoch average loss [0.443365] validate precision [0.901361] xent [0.321209]\n",
      "[Wed Oct 11 05:18:51 2017] [2] epoch precision [0.879493] xent [0.483170]\n",
      "[Wed Oct 11 05:18:52 2017] [3] epoch average loss [0.335264] validate precision [0.929252] xent [0.245354]\n",
      "[Wed Oct 11 05:18:52 2017] [3] epoch precision [0.905701] xent [0.397264]\n",
      "[Wed Oct 11 05:18:54 2017] [4] epoch average loss [0.283067] validate precision [0.926077] xent [0.247692]\n",
      "[Wed Oct 11 05:18:55 2017] [5] epoch average loss [0.249039] validate precision [0.928345] xent [0.238407]\n",
      "[Wed Oct 11 05:18:57 2017] [6] epoch average loss [0.220185] validate precision [0.931519] xent [0.218745]\n",
      "[Wed Oct 11 05:18:57 2017] [6] epoch precision [0.909976] xent [0.411266]\n",
      "[Wed Oct 11 05:18:59 2017] [7] epoch average loss [0.205303] validate precision [0.944671] xent [0.197031]\n",
      "[Wed Oct 11 05:18:59 2017] [7] epoch precision [0.923911] xent [0.358030]\n",
      "[Wed Oct 11 05:19:00 2017] [8] epoch average loss [0.187960] validate precision [0.939456] xent [0.218516]\n",
      "[Wed Oct 11 05:19:02 2017] [9] epoch average loss [0.175876] validate precision [0.939456] xent [0.213344]\n",
      "[Wed Oct 11 05:19:03 2017] [10] epoch average loss [0.168262] validate precision [0.942177] xent [0.207092]\n",
      "[Wed Oct 11 05:19:05 2017] [11] epoch average loss [0.158905] validate precision [0.945125] xent [0.213148]\n",
      "[Wed Oct 11 05:19:05 2017] [11] epoch precision [0.931354] xent [0.294748]\n",
      "[Wed Oct 11 05:19:06 2017] [12] epoch average loss [0.155840] validate precision [0.952608] xent [0.160898]\n",
      "[Wed Oct 11 05:19:07 2017] [12] epoch precision [0.932779] xent [0.321602]\n",
      "[Wed Oct 11 05:19:08 2017] [13] epoch average loss [0.145219] validate precision [0.946032] xent [0.206803]\n",
      "[Wed Oct 11 05:19:10 2017] [14] epoch average loss [0.140109] validate precision [0.951701] xent [0.166882]\n",
      "[Wed Oct 11 05:19:11 2017] [15] epoch average loss [0.135509] validate precision [0.949887] xent [0.181298]\n",
      "[Wed Oct 11 05:19:13 2017] [16] epoch average loss [0.127534] validate precision [0.952154] xent [0.166943]\n",
      "[Wed Oct 11 05:19:14 2017] [17] epoch average loss [0.130082] validate precision [0.952381] xent [0.171542]\n",
      "[Wed Oct 11 05:19:16 2017] [18] epoch average loss [0.122938] validate precision [0.950113] xent [0.169114]\n",
      "[Wed Oct 11 05:19:18 2017] [19] epoch average loss [0.118622] validate precision [0.949433] xent [0.186189]\n",
      "[Wed Oct 11 05:19:19 2017] [20] epoch average loss [0.119926] validate precision [0.952608] xent [0.181768]\n",
      "[Wed Oct 11 05:19:21 2017] [21] epoch average loss [0.114083] validate precision [0.954195] xent [0.174802]\n",
      "[Wed Oct 11 05:19:21 2017] [21] epoch precision [0.934125] xent [0.287903]\n",
      "[Wed Oct 11 05:19:22 2017] [22] epoch average loss [0.111595] validate precision [0.951247] xent [0.182261]\n",
      "[Wed Oct 11 05:19:24 2017] [23] epoch average loss [0.111845] validate precision [0.955556] xent [0.156349]\n",
      "[Wed Oct 11 05:19:24 2017] [23] epoch precision [0.937055] xent [0.275912]\n",
      "[Wed Oct 11 05:19:26 2017] [24] epoch average loss [0.110302] validate precision [0.952834] xent [0.177794]\n",
      "[Wed Oct 11 05:19:27 2017] [25] epoch average loss [0.103479] validate precision [0.952381] xent [0.168068]\n",
      "[Wed Oct 11 05:19:29 2017] [26] epoch average loss [0.107358] validate precision [0.955329] xent [0.158083]\n",
      "[Wed Oct 11 05:19:30 2017] [27] epoch average loss [0.100364] validate precision [0.953741] xent [0.174070]\n",
      "[Wed Oct 11 05:19:32 2017] [28] epoch average loss [0.106132] validate precision [0.955102] xent [0.170759]\n",
      "[Wed Oct 11 05:19:34 2017] [29] epoch average loss [0.102663] validate precision [0.957143] xent [0.167894]\n",
      "[Wed Oct 11 05:19:34 2017] [29] epoch precision [0.938638] xent [0.298385]\n",
      "[Wed Oct 11 05:19:35 2017] [30] epoch average loss [0.099434] validate precision [0.953288] xent [0.205646]\n",
      "[Wed Oct 11 05:19:37 2017] [31] epoch average loss [0.101158] validate precision [0.959184] xent [0.148229]\n",
      "[Wed Oct 11 05:19:37 2017] [31] epoch precision [0.943230] xent [0.252904]\n",
      "[Wed Oct 11 05:19:38 2017] [32] epoch average loss [0.093354] validate precision [0.959410] xent [0.164683]\n",
      "[Wed Oct 11 05:19:38 2017] [32] epoch precision [0.943310] xent [0.275815]\n",
      "[Wed Oct 11 05:19:40 2017] [33] epoch average loss [0.095073] validate precision [0.959410] xent [0.162551]\n",
      "[Wed Oct 11 05:19:42 2017] [34] epoch average loss [0.101448] validate precision [0.957823] xent [0.165643]\n",
      "[Wed Oct 11 05:19:43 2017] [35] epoch average loss [0.091870] validate precision [0.960317] xent [0.146685]\n",
      "[Wed Oct 11 05:19:43 2017] [35] epoch precision [0.938717] xent [0.292545]\n",
      "[Wed Oct 11 05:19:45 2017] [36] epoch average loss [0.094193] validate precision [0.959410] xent [0.151562]\n",
      "[Wed Oct 11 05:19:46 2017] [37] epoch average loss [0.090569] validate precision [0.960998] xent [0.169824]\n",
      "[Wed Oct 11 05:19:46 2017] [37] epoch precision [0.940934] xent [0.294178]\n",
      "[Wed Oct 11 05:19:48 2017] [38] epoch average loss [0.091884] validate precision [0.953515] xent [0.183683]\n",
      "[Wed Oct 11 05:19:50 2017] [39] epoch average loss [0.086399] validate precision [0.952608] xent [0.160680]\n",
      "[Wed Oct 11 05:19:52 2017] [40] epoch average loss [0.091307] validate precision [0.955102] xent [0.167037]\n",
      "[Wed Oct 11 05:19:53 2017] [41] epoch average loss [0.089035] validate precision [0.954649] xent [0.163072]\n",
      "[Wed Oct 11 05:19:55 2017] [42] epoch average loss [0.091169] validate precision [0.964399] xent [0.126279]\n",
      "[Wed Oct 11 05:19:55 2017] [42] epoch precision [0.942518] xent [0.260699]\n",
      "[Wed Oct 11 05:19:56 2017] [43] epoch average loss [0.086173] validate precision [0.952381] xent [0.200152]\n",
      "[Wed Oct 11 05:19:58 2017] [44] epoch average loss [0.088188] validate precision [0.962132] xent [0.147160]\n",
      "[Wed Oct 11 05:20:00 2017] [45] epoch average loss [0.085219] validate precision [0.965079] xent [0.137473]\n",
      "[Wed Oct 11 05:20:00 2017] [45] epoch precision [0.946081] xent [0.255789]\n",
      "[Wed Oct 11 05:20:02 2017] [46] epoch average loss [0.084518] validate precision [0.963946] xent [0.134095]\n",
      "[Wed Oct 11 05:20:04 2017] [47] epoch average loss [0.088157] validate precision [0.962812] xent [0.132768]\n",
      "[Wed Oct 11 05:20:06 2017] [48] epoch average loss [0.082342] validate precision [0.956463] xent [0.167033]\n",
      "[Wed Oct 11 05:20:07 2017] [49] epoch average loss [0.083210] validate precision [0.957596] xent [0.182513]\n",
      "[Wed Oct 11 05:20:09 2017] [50] epoch average loss [0.080796] validate precision [0.958957] xent [0.170024]\n",
      "[Wed Oct 11 05:20:11 2017] [51] epoch average loss [0.085985] validate precision [0.960091] xent [0.154787]\n",
      "[Wed Oct 11 05:20:13 2017] [52] epoch average loss [0.081106] validate precision [0.962585] xent [0.141079]\n",
      "[Wed Oct 11 05:20:14 2017] [53] epoch average loss [0.079881] validate precision [0.953741] xent [0.167531]\n",
      "[Wed Oct 11 05:20:16 2017] [54] epoch average loss [0.079811] validate precision [0.965760] xent [0.129830]\n",
      "[Wed Oct 11 05:20:16 2017] [54] epoch precision [0.944022] xent [0.260853]\n",
      "[Wed Oct 11 05:20:18 2017] [55] epoch average loss [0.076852] validate precision [0.965306] xent [0.125976]\n",
      "[Wed Oct 11 05:20:19 2017] [56] epoch average loss [0.083005] validate precision [0.961451] xent [0.135314]\n",
      "[Wed Oct 11 05:20:21 2017] [57] epoch average loss [0.080283] validate precision [0.963492] xent [0.129197]\n",
      "[Wed Oct 11 05:20:22 2017] [58] epoch average loss [0.083701] validate precision [0.960998] xent [0.156908]\n",
      "[Wed Oct 11 05:20:24 2017] [59] epoch average loss [0.079744] validate precision [0.953288] xent [0.171442]\n",
      "[Wed Oct 11 05:20:25 2017] [60] epoch average loss [0.077589] validate precision [0.960771] xent [0.154089]\n",
      "[Wed Oct 11 05:20:27 2017] [61] epoch average loss [0.074594] validate precision [0.975964] xent [0.094446]\n",
      "[Wed Oct 11 05:20:27 2017] [61] epoch precision [0.948060] xent [0.261525]\n",
      "[Wed Oct 11 05:20:29 2017] [62] epoch average loss [0.076399] validate precision [0.961678] xent [0.141567]\n"
     ]
    },
    {
     "name": "stderr",
     "output_type": "stream",
     "text": [
      "[Wed Oct 11 05:20:30 2017] [63] epoch average loss [0.078806] validate precision [0.963265] xent [0.154023]\n",
      "[Wed Oct 11 05:20:32 2017] [64] epoch average loss [0.076891] validate precision [0.958957] xent [0.185081]\n",
      "[Wed Oct 11 05:20:33 2017] [65] epoch average loss [0.081135] validate precision [0.961224] xent [0.151020]\n",
      "[Wed Oct 11 05:20:35 2017] [66] epoch average loss [0.075256] validate precision [0.959410] xent [0.168094]\n",
      "[Wed Oct 11 05:20:36 2017] [67] epoch average loss [0.073214] validate precision [0.959637] xent [0.166213]\n",
      "[Wed Oct 11 05:20:38 2017] [68] epoch average loss [0.072413] validate precision [0.966213] xent [0.124797]\n",
      "[Wed Oct 11 05:20:39 2017] [69] epoch average loss [0.075825] validate precision [0.964853] xent [0.142421]\n",
      "[Wed Oct 11 05:20:41 2017] [70] epoch average loss [0.074692] validate precision [0.971655] xent [0.115175]\n",
      "[Wed Oct 11 05:20:43 2017] [71] epoch average loss [0.073923] validate precision [0.957143] xent [0.148797]\n",
      "[Wed Oct 11 05:20:44 2017] [72] epoch average loss [0.076795] validate precision [0.960771] xent [0.184473]\n",
      "[Wed Oct 11 05:20:46 2017] [73] epoch average loss [0.073711] validate precision [0.955329] xent [0.218945]\n",
      "[Wed Oct 11 05:20:47 2017] [74] epoch average loss [0.076099] validate precision [0.967347] xent [0.149922]\n",
      "[Wed Oct 11 05:20:49 2017] [75] epoch average loss [0.073428] validate precision [0.960317] xent [0.148840]\n",
      "[Wed Oct 11 05:20:50 2017] [76] epoch average loss [0.075677] validate precision [0.964399] xent [0.128624]\n",
      "[Wed Oct 11 05:20:52 2017] [77] epoch average loss [0.074946] validate precision [0.958730] xent [0.188971]\n",
      "[Wed Oct 11 05:20:53 2017] [78] epoch average loss [0.071049] validate precision [0.963492] xent [0.133352]\n",
      "[Wed Oct 11 05:20:55 2017] [79] epoch average loss [0.072417] validate precision [0.968027] xent [0.134629]\n",
      "[Wed Oct 11 05:20:56 2017] [80] epoch average loss [0.074230] validate precision [0.968708] xent [0.128703]\n",
      "[Wed Oct 11 05:20:58 2017] [81] epoch average loss [0.075191] validate precision [0.963039] xent [0.139090]\n",
      "[Wed Oct 11 05:21:00 2017] [82] epoch average loss [0.073495] validate precision [0.965079] xent [0.143122]\n",
      "[Wed Oct 11 05:21:01 2017] [83] epoch average loss [0.074373] validate precision [0.959864] xent [0.174669]\n",
      "[Wed Oct 11 05:21:03 2017] [84] epoch average loss [0.065645] validate precision [0.963946] xent [0.182924]\n",
      "[Wed Oct 11 05:21:04 2017] [85] epoch average loss [0.074647] validate precision [0.959864] xent [0.175188]\n",
      "[Wed Oct 11 05:21:06 2017] [86] epoch average loss [0.072140] validate precision [0.972562] xent [0.117667]\n",
      "[Wed Oct 11 05:21:07 2017] [87] epoch average loss [0.068936] validate precision [0.961451] xent [0.150815]\n",
      "[Wed Oct 11 05:21:09 2017] [88] epoch average loss [0.071961] validate precision [0.959410] xent [0.191335]\n",
      "[Wed Oct 11 05:21:10 2017] [89] epoch average loss [0.067654] validate precision [0.956689] xent [0.158855]\n",
      "[Wed Oct 11 05:21:12 2017] [90] epoch average loss [0.067774] validate precision [0.959410] xent [0.170639]\n",
      "[Wed Oct 11 05:21:14 2017] [91] epoch average loss [0.071359] validate precision [0.961678] xent [0.156012]\n",
      "[Wed Oct 11 05:21:15 2017] [92] epoch average loss [0.071505] validate precision [0.962358] xent [0.187688]\n",
      "[Wed Oct 11 05:21:17 2017] [93] epoch average loss [0.073535] validate precision [0.957823] xent [0.188792]\n",
      "[Wed Oct 11 05:21:18 2017] [94] epoch average loss [0.071148] validate precision [0.958730] xent [0.171343]\n",
      "[Wed Oct 11 05:21:20 2017] [95] epoch average loss [0.071690] validate precision [0.964626] xent [0.148768]\n",
      "[Wed Oct 11 05:21:22 2017] [96] epoch average loss [0.072236] validate precision [0.973016] xent [0.116060]\n",
      "[Wed Oct 11 05:21:23 2017] [97] epoch average loss [0.066043] validate precision [0.965760] xent [0.132103]\n",
      "[Wed Oct 11 05:21:25 2017] [98] epoch average loss [0.067439] validate precision [0.957143] xent [0.203245]\n",
      "[Wed Oct 11 05:21:27 2017] [99] epoch average loss [0.067223] validate precision [0.960998] xent [0.160460]\n",
      "[Wed Oct 11 05:21:28 2017] [100] epoch average loss [0.067238] validate precision [0.956689] xent [0.175802]\n",
      "[Wed Oct 11 05:21:30 2017] [101] epoch average loss [0.071922] validate precision [0.957143] xent [0.190121]\n",
      "[Wed Oct 11 05:21:32 2017] [102] epoch average loss [0.068018] validate precision [0.962812] xent [0.154343]\n",
      "[Wed Oct 11 05:21:33 2017] [103] epoch average loss [0.071213] validate precision [0.959184] xent [0.187296]\n",
      "[Wed Oct 11 05:21:35 2017] [104] epoch average loss [0.062123] validate precision [0.962812] xent [0.166488]\n",
      "[Wed Oct 11 05:21:37 2017] [105] epoch average loss [0.071694] validate precision [0.965079] xent [0.166879]\n",
      "[Wed Oct 11 05:21:38 2017] [106] epoch average loss [0.068197] validate precision [0.961678] xent [0.162004]\n",
      "[Wed Oct 11 05:21:40 2017] [107] epoch average loss [0.069308] validate precision [0.959410] xent [0.213029]\n",
      "[Wed Oct 11 05:21:42 2017] [108] epoch average loss [0.069949] validate precision [0.968481] xent [0.143088]\n",
      "[Wed Oct 11 05:21:43 2017] [109] epoch average loss [0.066677] validate precision [0.964399] xent [0.138388]\n",
      "[Wed Oct 11 05:21:45 2017] [110] epoch average loss [0.067609] validate precision [0.961905] xent [0.158808]\n",
      "[Wed Oct 11 05:21:47 2017] [111] epoch average loss [0.067897] validate precision [0.957370] xent [0.180212]\n",
      "[Wed Oct 11 05:21:48 2017] [112] epoch average loss [0.065217] validate precision [0.961451] xent [0.165625]\n",
      "[Wed Oct 11 05:21:50 2017] [113] epoch average loss [0.063252] validate precision [0.972789] xent [0.120864]\n",
      "[Wed Oct 11 05:21:52 2017] [114] epoch average loss [0.067323] validate precision [0.966213] xent [0.140030]\n",
      "[Wed Oct 11 05:21:53 2017] [115] epoch average loss [0.070100] validate precision [0.964172] xent [0.142638]\n",
      "[Wed Oct 11 05:21:55 2017] [116] epoch average loss [0.066999] validate precision [0.953061] xent [0.290671]\n",
      "[Wed Oct 11 05:21:57 2017] [117] epoch average loss [0.068352] validate precision [0.961451] xent [0.197037]\n",
      "[Wed Oct 11 05:21:58 2017] [118] epoch average loss [0.068581] validate precision [0.960771] xent [0.188743]\n",
      "[Wed Oct 11 05:22:00 2017] [119] epoch average loss [0.062371] validate precision [0.961905] xent [0.148880]\n",
      "[Wed Oct 11 05:22:02 2017] [120] epoch average loss [0.068526] validate precision [0.965760] xent [0.131546]\n",
      "[Wed Oct 11 05:22:03 2017] [121] epoch average loss [0.065667] validate precision [0.967347] xent [0.133434]\n",
      "[Wed Oct 11 05:22:05 2017] [122] epoch average loss [0.068577] validate precision [0.963265] xent [0.157933]\n",
      "[Wed Oct 11 05:22:07 2017] [123] epoch average loss [0.064560] validate precision [0.965760] xent [0.158109]\n",
      "[Wed Oct 11 05:22:08 2017] [124] epoch average loss [0.065507] validate precision [0.959864] xent [0.187460]\n",
      "[Wed Oct 11 05:22:10 2017] [125] epoch average loss [0.064923] validate precision [0.961224] xent [0.175856]\n",
      "[Wed Oct 11 05:22:11 2017] [126] epoch average loss [0.064285] validate precision [0.960998] xent [0.188792]\n",
      "[Wed Oct 11 05:22:13 2017] [127] epoch average loss [0.065484] validate precision [0.961678] xent [0.183105]\n",
      "[Wed Oct 11 05:22:15 2017] [128] epoch average loss [0.064628] validate precision [0.961451] xent [0.201138]\n",
      "[Wed Oct 11 05:22:16 2017] [129] epoch average loss [0.062085] validate precision [0.960544] xent [0.215661]\n",
      "[Wed Oct 11 05:22:18 2017] [130] epoch average loss [0.062159] validate precision [0.964853] xent [0.198141]\n",
      "[Wed Oct 11 05:22:19 2017] [131] epoch average loss [0.069882] validate precision [0.961224] xent [0.198004]\n",
      "[Wed Oct 11 05:22:21 2017] [132] epoch average loss [0.060870] validate precision [0.966213] xent [0.212196]\n",
      "[Wed Oct 11 05:22:22 2017] [133] epoch average loss [0.065237] validate precision [0.964399] xent [0.192827]\n",
      "[Wed Oct 11 05:22:24 2017] [134] epoch average loss [0.063754] validate precision [0.967574] xent [0.142786]\n",
      "[Wed Oct 11 05:22:25 2017] [135] epoch average loss [0.066131] validate precision [0.973923] xent [0.104220]\n",
      "[Wed Oct 11 05:22:27 2017] [136] epoch average loss [0.065891] validate precision [0.971429] xent [0.111702]\n",
      "[Wed Oct 11 05:22:28 2017] [137] epoch average loss [0.067967] validate precision [0.967574] xent [0.166359]\n",
      "[Wed Oct 11 05:22:30 2017] [138] epoch average loss [0.059045] validate precision [0.964626] xent [0.154306]\n"
     ]
    },
    {
     "name": "stderr",
     "output_type": "stream",
     "text": [
      "[Wed Oct 11 05:22:32 2017] [139] epoch average loss [0.063932] validate precision [0.958277] xent [0.251495]\n",
      "[Wed Oct 11 05:22:33 2017] [140] epoch average loss [0.062352] validate precision [0.963039] xent [0.181329]\n",
      "[Wed Oct 11 05:22:35 2017] [141] epoch average loss [0.065186] validate precision [0.961451] xent [0.187181]\n",
      "[Wed Oct 11 05:22:36 2017] [142] epoch average loss [0.063154] validate precision [0.969841] xent [0.121538]\n",
      "[Wed Oct 11 05:22:38 2017] [143] epoch average loss [0.063122] validate precision [0.968027] xent [0.145414]\n",
      "[Wed Oct 11 05:22:39 2017] [144] epoch average loss [0.066802] validate precision [0.961905] xent [0.190887]\n",
      "[Wed Oct 11 05:22:41 2017] [145] epoch average loss [0.056834] validate precision [0.964626] xent [0.161308]\n",
      "[Wed Oct 11 05:22:42 2017] [146] epoch average loss [0.064933] validate precision [0.972562] xent [0.131628]\n",
      "[Wed Oct 11 05:22:44 2017] [147] epoch average loss [0.064152] validate precision [0.968254] xent [0.184367]\n",
      "[Wed Oct 11 05:22:46 2017] [148] epoch average loss [0.057685] validate precision [0.964399] xent [0.206358]\n",
      "[Wed Oct 11 05:22:47 2017] [149] epoch average loss [0.064704] validate precision [0.962812] xent [0.192076]\n",
      "[Wed Oct 11 05:22:49 2017] [150] epoch average loss [0.063830] validate precision [0.964853] xent [0.178765]\n",
      "[Wed Oct 11 05:22:50 2017] [151] epoch average loss [0.058444] validate precision [0.968027] xent [0.188411]\n",
      "[Wed Oct 11 05:22:52 2017] [152] epoch average loss [0.062846] validate precision [0.966893] xent [0.153806]\n",
      "[Wed Oct 11 05:22:53 2017] [153] epoch average loss [0.067268] validate precision [0.962585] xent [0.198691]\n",
      "[Wed Oct 11 05:22:55 2017] [154] epoch average loss [0.063353] validate precision [0.966440] xent [0.157648]\n",
      "[Wed Oct 11 05:22:56 2017] [155] epoch average loss [0.059780] validate precision [0.959410] xent [0.164000]\n",
      "[Wed Oct 11 05:22:58 2017] [156] epoch average loss [0.067769] validate precision [0.965306] xent [0.158962]\n",
      "[Wed Oct 11 05:22:59 2017] [157] epoch average loss [0.059110] validate precision [0.961224] xent [0.250927]\n",
      "[Wed Oct 11 05:23:01 2017] [158] epoch average loss [0.064920] validate precision [0.968027] xent [0.124989]\n",
      "[Wed Oct 11 05:23:03 2017] [159] epoch average loss [0.063021] validate precision [0.966893] xent [0.170362]\n",
      "[Wed Oct 11 05:23:04 2017] [160] epoch average loss [0.058791] validate precision [0.957596] xent [0.216522]\n",
      "[Wed Oct 11 05:23:06 2017] [161] epoch average loss [0.060148] validate precision [0.965986] xent [0.165983]\n",
      "[Wed Oct 11 05:23:07 2017] [162] epoch average loss [0.063099] validate precision [0.960771] xent [0.183000]\n",
      "[Wed Oct 11 05:23:09 2017] [163] epoch average loss [0.063924] validate precision [0.961905] xent [0.185151]\n",
      "[Wed Oct 11 05:23:10 2017] [164] epoch average loss [0.061425] validate precision [0.964172] xent [0.161708]\n",
      "[Wed Oct 11 05:23:12 2017] [165] epoch average loss [0.061118] validate precision [0.964853] xent [0.168520]\n",
      "[Wed Oct 11 05:23:13 2017] [166] epoch average loss [0.060338] validate precision [0.960544] xent [0.182273]\n",
      "[Wed Oct 11 05:23:15 2017] [167] epoch average loss [0.062000] validate precision [0.960998] xent [0.167022]\n",
      "[Wed Oct 11 05:23:16 2017] [168] epoch average loss [0.057425] validate precision [0.964853] xent [0.158607]\n",
      "[Wed Oct 11 05:23:18 2017] [169] epoch average loss [0.058798] validate precision [0.964172] xent [0.169089]\n",
      "[Wed Oct 11 05:23:20 2017] [170] epoch average loss [0.063653] validate precision [0.961224] xent [0.195747]\n",
      "[Wed Oct 11 05:23:21 2017] [171] epoch average loss [0.057306] validate precision [0.960998] xent [0.182614]\n",
      "[Wed Oct 11 05:23:23 2017] [172] epoch average loss [0.064416] validate precision [0.961905] xent [0.185526]\n",
      "[Wed Oct 11 05:23:24 2017] [173] epoch average loss [0.061576] validate precision [0.961451] xent [0.199588]\n",
      "[Wed Oct 11 05:23:26 2017] [174] epoch average loss [0.054946] validate precision [0.963492] xent [0.192825]\n",
      "[Wed Oct 11 05:23:27 2017] [175] epoch average loss [0.063157] validate precision [0.964399] xent [0.197931]\n",
      "[Wed Oct 11 05:23:29 2017] [176] epoch average loss [0.060910] validate precision [0.964626] xent [0.182296]\n",
      "[Wed Oct 11 05:23:30 2017] [177] epoch average loss [0.056256] validate precision [0.963039] xent [0.177492]\n",
      "[Wed Oct 11 05:23:32 2017] [178] epoch average loss [0.061783] validate precision [0.960317] xent [0.243725]\n",
      "[Wed Oct 11 05:23:33 2017] [179] epoch average loss [0.065076] validate precision [0.960771] xent [0.267933]\n",
      "[Wed Oct 11 05:23:35 2017] [180] epoch average loss [0.057040] validate precision [0.967347] xent [0.202420]\n",
      "[Wed Oct 11 05:23:36 2017] [181] epoch average loss [0.058668] validate precision [0.960998] xent [0.280139]\n",
      "[Wed Oct 11 05:23:38 2017] [182] epoch average loss [0.062809] validate precision [0.973243] xent [0.112451]\n",
      "[Wed Oct 11 05:23:40 2017] [183] epoch average loss [0.062335] validate precision [0.967347] xent [0.155361]\n",
      "[Wed Oct 11 05:23:41 2017] [184] epoch average loss [0.059714] validate precision [0.956689] xent [0.270910]\n",
      "[Wed Oct 11 05:23:43 2017] [185] epoch average loss [0.060193] validate precision [0.960998] xent [0.186990]\n",
      "[Wed Oct 11 05:23:44 2017] [186] epoch average loss [0.055421] validate precision [0.960544] xent [0.254101]\n",
      "[Wed Oct 11 05:23:46 2017] [187] epoch average loss [0.058181] validate precision [0.963039] xent [0.183252]\n",
      "[Wed Oct 11 05:23:47 2017] [188] epoch average loss [0.060993] validate precision [0.964399] xent [0.213732]\n",
      "[Wed Oct 11 05:23:49 2017] [189] epoch average loss [0.061370] validate precision [0.967574] xent [0.143085]\n",
      "[Wed Oct 11 05:23:50 2017] [190] epoch average loss [0.058787] validate precision [0.959184] xent [0.224834]\n",
      "[Wed Oct 11 05:23:52 2017] [191] epoch average loss [0.063533] validate precision [0.962812] xent [0.243289]\n",
      "[Wed Oct 11 05:23:53 2017] [192] epoch average loss [0.057883] validate precision [0.962585] xent [0.162404]\n",
      "[Wed Oct 11 05:23:55 2017] [193] epoch average loss [0.063869] validate precision [0.963492] xent [0.194224]\n",
      "[Wed Oct 11 05:23:57 2017] [194] epoch average loss [0.053027] validate precision [0.964172] xent [0.193794]\n",
      "[Wed Oct 11 05:23:58 2017] [195] epoch average loss [0.053952] validate precision [0.965306] xent [0.258646]\n",
      "[Wed Oct 11 05:24:00 2017] [196] epoch average loss [0.054868] validate precision [0.968254] xent [0.208905]\n",
      "[Wed Oct 11 05:24:01 2017] [197] epoch average loss [0.061682] validate precision [0.969388] xent [0.193393]\n",
      "[Wed Oct 11 05:24:03 2017] [198] epoch average loss [0.060833] validate precision [0.966440] xent [0.197339]\n",
      "[Wed Oct 11 05:24:04 2017] [199] epoch average loss [0.059658] validate precision [0.965986] xent [0.183776]\n",
      "[Wed Oct 11 05:24:06 2017] [200] epoch average loss [0.053936] validate precision [0.963946] xent [0.188435]\n",
      "[Wed Oct 11 05:24:07 2017] [201] epoch average loss [0.056982] validate precision [0.972336] xent [0.146055]\n",
      "[Wed Oct 11 05:24:09 2017] [202] epoch average loss [0.059295] validate precision [0.961905] xent [0.237988]\n",
      "[Wed Oct 11 05:24:11 2017] [203] epoch average loss [0.062425] validate precision [0.965079] xent [0.175258]\n",
      "[Wed Oct 11 05:24:12 2017] [204] epoch average loss [0.057744] validate precision [0.963265] xent [0.228822]\n",
      "[Wed Oct 11 05:24:14 2017] [205] epoch average loss [0.057855] validate precision [0.965986] xent [0.249772]\n",
      "[Wed Oct 11 05:24:15 2017] [206] epoch average loss [0.058100] validate precision [0.963719] xent [0.196080]\n",
      "[Wed Oct 11 05:24:17 2017] [207] epoch average loss [0.056436] validate precision [0.965079] xent [0.216432]\n",
      "[Wed Oct 11 05:24:18 2017] [208] epoch average loss [0.061814] validate precision [0.963946] xent [0.265251]\n",
      "[Wed Oct 11 05:24:20 2017] [209] epoch average loss [0.057769] validate precision [0.966213] xent [0.190807]\n",
      "[Wed Oct 11 05:24:21 2017] [210] epoch average loss [0.057514] validate precision [0.959864] xent [0.221071]\n",
      "[Wed Oct 11 05:24:23 2017] [211] epoch average loss [0.054080] validate precision [0.967120] xent [0.249573]\n",
      "[Wed Oct 11 05:24:24 2017] [212] epoch average loss [0.058794] validate precision [0.952608] xent [0.206944]\n",
      "[Wed Oct 11 05:24:26 2017] [213] epoch average loss [0.060524] validate precision [0.967347] xent [0.174823]\n",
      "[Wed Oct 11 05:24:28 2017] [214] epoch average loss [0.060017] validate precision [0.960998] xent [0.247894]\n"
     ]
    },
    {
     "name": "stderr",
     "output_type": "stream",
     "text": [
      "[Wed Oct 11 05:24:29 2017] [215] epoch average loss [0.052698] validate precision [0.961905] xent [0.216156]\n",
      "[Wed Oct 11 05:24:31 2017] [216] epoch average loss [0.054449] validate precision [0.960998] xent [0.236147]\n",
      "[Wed Oct 11 05:24:32 2017] [217] epoch average loss [0.057630] validate precision [0.957370] xent [0.200411]\n",
      "[Wed Oct 11 05:24:34 2017] [218] epoch average loss [0.055392] validate precision [0.964626] xent [0.267692]\n",
      "[Wed Oct 11 05:24:35 2017] [219] epoch average loss [0.063833] validate precision [0.955329] xent [0.240037]\n",
      "[Wed Oct 11 05:24:37 2017] [220] epoch average loss [0.055847] validate precision [0.962358] xent [0.200294]\n",
      "[Wed Oct 11 05:24:38 2017] [221] epoch average loss [0.058987] validate precision [0.962812] xent [0.277691]\n",
      "[Wed Oct 11 05:24:40 2017] [222] epoch average loss [0.058461] validate precision [0.962585] xent [0.235325]\n",
      "[Wed Oct 11 05:24:41 2017] [223] epoch average loss [0.054762] validate precision [0.958503] xent [0.236128]\n",
      "[Wed Oct 11 05:24:43 2017] [224] epoch average loss [0.057205] validate precision [0.962358] xent [0.236350]\n",
      "[Wed Oct 11 05:24:45 2017] [225] epoch average loss [0.053985] validate precision [0.966440] xent [0.194651]\n",
      "[Wed Oct 11 05:24:46 2017] [226] epoch average loss [0.051113] validate precision [0.970068] xent [0.163029]\n",
      "[Wed Oct 11 05:24:48 2017] [227] epoch average loss [0.057103] validate precision [0.958957] xent [0.221824]\n",
      "[Wed Oct 11 05:24:49 2017] [228] epoch average loss [0.061074] validate precision [0.964626] xent [0.214741]\n",
      "[Wed Oct 11 05:24:51 2017] [229] epoch average loss [0.055186] validate precision [0.969161] xent [0.227882]\n",
      "[Wed Oct 11 05:24:52 2017] [230] epoch average loss [0.055484] validate precision [0.967120] xent [0.193782]\n",
      "[Wed Oct 11 05:24:54 2017] [231] epoch average loss [0.057711] validate precision [0.965986] xent [0.235739]\n",
      "[Wed Oct 11 05:24:55 2017] [232] epoch average loss [0.055310] validate precision [0.959637] xent [0.343290]\n",
      "[Wed Oct 11 05:24:57 2017] [233] epoch average loss [0.053803] validate precision [0.958957] xent [0.302063]\n",
      "[Wed Oct 11 05:24:59 2017] [234] epoch average loss [0.058856] validate precision [0.960998] xent [0.209541]\n",
      "[Wed Oct 11 05:25:00 2017] [235] epoch average loss [0.054234] validate precision [0.964172] xent [0.261626]\n",
      "[Wed Oct 11 05:25:02 2017] [236] epoch average loss [0.060866] validate precision [0.966667] xent [0.170652]\n",
      "[Wed Oct 11 05:25:03 2017] [237] epoch average loss [0.056981] validate precision [0.965760] xent [0.266612]\n",
      "[Wed Oct 11 05:25:05 2017] [238] epoch average loss [0.061717] validate precision [0.961678] xent [0.241408]\n",
      "[Wed Oct 11 05:25:06 2017] [239] epoch average loss [0.050835] validate precision [0.954875] xent [0.298426]\n",
      "[Wed Oct 11 05:25:08 2017] [240] epoch average loss [0.058490] validate precision [0.961678] xent [0.213190]\n",
      "[Wed Oct 11 05:25:09 2017] [241] epoch average loss [0.055198] validate precision [0.963946] xent [0.247923]\n",
      "[Wed Oct 11 05:25:11 2017] [242] epoch average loss [0.055538] validate precision [0.966440] xent [0.192511]\n",
      "[Wed Oct 11 05:25:12 2017] [243] epoch average loss [0.054050] validate precision [0.960091] xent [0.291507]\n",
      "[Wed Oct 11 05:25:14 2017] [244] epoch average loss [0.058499] validate precision [0.959864] xent [0.220322]\n",
      "[Wed Oct 11 05:25:16 2017] [245] epoch average loss [0.059733] validate precision [0.969388] xent [0.158698]\n",
      "[Wed Oct 11 05:25:17 2017] [246] epoch average loss [0.056511] validate precision [0.967574] xent [0.135854]\n",
      "[Wed Oct 11 05:25:19 2017] [247] epoch average loss [0.053240] validate precision [0.963039] xent [0.170809]\n",
      "[Wed Oct 11 05:25:20 2017] [248] epoch average loss [0.054024] validate precision [0.963719] xent [0.155512]\n",
      "[Wed Oct 11 05:25:22 2017] [249] epoch average loss [0.052857] validate precision [0.962585] xent [0.277660]\n"
     ]
    }
   ],
   "source": [
    "### lennet is defined in traffic_net.lennet\n",
    "### other architectures are implemented in traffic_net.inception, traffic_net.alex_net, traffic_net.sermanet\n",
    "### pass in apply_*** to train network of various archs\n",
    "dataset = load_traffic_dataset('./traffic_data/')\n",
    "tf.flags.FLAGS.save_path = './saves'\n",
    "coord = tf.train.Coordinator()\n",
    "sess = train_model('lennet', dataset, apply_lennet, coord)"
   ]
  },
  {
   "cell_type": "code",
   "execution_count": 2,
   "metadata": {},
   "outputs": [
    {
     "name": "stdout",
     "output_type": "stream",
     "text": [
      "INFO:tensorflow:Restoring parameters from ./saves/lennet-61\n"
     ]
    }
   ],
   "source": []
  },
  {
   "cell_type": "markdown",
   "metadata": {},
   "source": [
    "### Analysis the bad cases"
   ]
  },
  {
   "cell_type": "code",
   "execution_count": 71,
   "metadata": {
    "collapsed": true
   },
   "outputs": [],
   "source": [
    "from tf_traffic_net.net_flags import normalize_image\n",
    "from tf_traffic_net.eval_funcs import is_correct_one_batch\n",
    "# img_ph = tf.placeholder(dtype='int8', shape=(32, 32, 3))\n",
    "# batch_x = normalize_image(tf.expand_dims(img_ph, axis=0))\n",
    "batch_x = tf.placeholder(dtype='uint8', shape=(None, 32, 32, 3))\n",
    "norm_batch_x = normalize_image(batch_x)\n",
    "logits = apply_lennet(norm_batch_x, num_classes=43, is_train=False, reuse=True)\n",
    "prob = tf.nn.softmax(logits)\n",
    "prob_val = sess.run(prob, {batch_x: dataset.valid['features']})\n",
    "pred = prob_val.argmax(axis=-1)\n",
    "bad_cases = np.squeeze(np.where(np.not_equal(pred, dataset.valid['labels'])))"
   ]
  },
  {
   "cell_type": "code",
   "execution_count": 73,
   "metadata": {
    "collapsed": true
   },
   "outputs": [],
   "source": [
    "example = dataset.valid['features']\n",
    "label = dataset.valid['labels']"
   ]
  },
  {
   "cell_type": "code",
   "execution_count": 92,
   "metadata": {
    "collapsed": true
   },
   "outputs": [],
   "source": [
    "names = []\n",
    "for i, l in enumerate(open('./signnames.csv')):\n",
    "    if i == 0:\n",
    "        continue\n",
    "    row = l[:-1].split(',')\n",
    "    names.append(row[1])"
   ]
  },
  {
   "cell_type": "code",
   "execution_count": 120,
   "metadata": {},
   "outputs": [
    {
     "data": {
      "image/png": "[encoded data removed]",
      "text/plain": [
       "<matplotlib.figure.Figure at 0x7f5221e3c278>"
      ]
     },
     "metadata": {},
     "output_type": "display_data"
    },
    {
     "name": "stdout",
     "output_type": "stream",
     "text": [
      "Double curve , Slippery road , 150\n"
     ]
    }
   ],
   "source": [
    "idx = 125\n",
    "idx = bad_cases[idx]\n",
    "plt.imshow(example[idx])\n",
    "plt.show()\n",
    "print(names[label[idx]], ',', names[pred[idx]],',', len(bad_cases))"
   ]
  },
  {
   "cell_type": "code",
   "execution_count": 121,
   "metadata": {},
   "outputs": [
    {
     "data": {
      "image/png": "[encoded data removed]",
      "text/plain": [
       "<matplotlib.figure.Figure at 0x7f5225d5d4a8>"
      ]
     },
     "metadata": {},
     "output_type": "display_data"
    }
   ],
   "source": [
    "def plot_histgram(ax, name, labels):\n",
    "    ax.hist(labels)\n",
    "    plt.title('%s Histgram' % name)\n",
    "    plt.xlabel(\"Value\")\n",
    "    plt.ylabel(\"Frequency\")\n",
    "bad_cases_labels = [label[x] for x in bad_cases]\n",
    "plt.hist(bad_cases_labels)\n",
    "plt.xlabel(\"Value\")\n",
    "plt.ylabel(\"Frequency\")\n",
    "plt.show()"
   ]
  },
  {
   "cell_type": "code",
   "execution_count": 127,
   "metadata": {},
   "outputs": [
    {
     "name": "stdout",
     "output_type": "stream",
     "text": [
      "Wild animals crossing 1.0\n",
      "Speed limit (50km/h) 5.1\n",
      "Speed limit (50km/h) 9.2\n",
      "Beware of ice/snow 13.3\n",
      "Bicycles crossing 17.4\n",
      "Double curve 21.5\n",
      "End of speed limit (80km/h) 25.6\n",
      "Speed limit (50km/h) 29.7\n",
      "Speed limit (60km/h) 33.8\n",
      "Road narrows on the right 37.9\n"
     ]
    }
   ],
   "source": [
    "hist = np.histogram(bad_cases_labels)\n",
    "for k, v in zip(*hist):\n",
    "    print(names[k], v)"
   ]
  },
  {
   "cell_type": "code",
   "execution_count": 132,
   "metadata": {
    "collapsed": true,
    "scrolled": false
   },
   "outputs": [],
   "source": [
    "from collections import Counter\n",
    "counter = Counter(bad_cases_labels)"
   ]
  },
  {
   "cell_type": "code",
   "execution_count": 134,
   "metadata": {},
   "outputs": [
    {
     "name": "stdout",
     "output_type": "stream",
     "text": [
      "Speed limit (30km/h) 8\n",
      "Turn left ahead 3\n",
      "Speed limit (60km/h) 2\n",
      "Speed limit (80km/h) 20\n",
      "Turn right ahead 2\n",
      "Roundabout mandatory 11\n",
      "End of no passing 12\n",
      "End of no passing by vehicles over 3.5 metric tons 1\n",
      "Speed limit (50km/h) 1\n",
      "Priority road 1\n",
      "Yield 1\n",
      "Vehicles over 3.5 metric tons prohibited 30\n",
      "Speed limit (120km/h) 2\n",
      "General caution 2\n",
      "Dangerous curve to the right 16\n",
      "Double curve 11\n",
      "Slippery road 3\n",
      "Road narrows on the right 15\n",
      "Road work 3\n",
      "Pedestrians 5\n",
      "Bicycles crossing 1\n"
     ]
    }
   ],
   "source": [
    "for k, v in counter.items():\n",
    "    print(names[k], v)"
   ]
  },
  {
   "cell_type": "code",
   "execution_count": 14,
   "metadata": {
    "collapsed": true
   },
   "outputs": [],
   "source": [
    "import matplotlib.pyplot as plt\n",
    "import matplotlib.gridspec as gridspec\n",
    "import matplotlib.patches as mpatches\n",
    "# Visualizations will be shown in the notebook.\n",
    "%matplotlib inline"
   ]
  },
  {
   "cell_type": "code",
   "execution_count": 63,
   "metadata": {
    "collapsed": true
   },
   "outputs": [],
   "source": [
    "idx = 3\n",
    "example = dataset.valid['features']\n",
    "label = dataset.valid['labels']\n",
    "pred = evaluate(dataset.valid['features'])"
   ]
  },
  {
   "cell_type": "code",
   "execution_count": 64,
   "metadata": {
    "collapsed": true
   },
   "outputs": [],
   "source": [
    "p = pred.argmax(axis=-1)"
   ]
  },
  {
   "cell_type": "code",
   "execution_count": 65,
   "metadata": {},
   "outputs": [
    {
     "data": {
      "text/plain": [
       "4260"
      ]
     },
     "execution_count": 65,
     "metadata": {},
     "output_type": "execute_result"
    }
   ],
   "source": [
    "sum(p == label)"
   ]
  },
  {
   "cell_type": "code",
   "execution_count": 66,
   "metadata": {},
   "outputs": [
    {
     "data": {
      "text/plain": [
       "0.9659863945578231"
      ]
     },
     "execution_count": 66,
     "metadata": {},
     "output_type": "execute_result"
    }
   ],
   "source": [
    "4260.0 / 4410"
   ]
  },
  {
   "cell_type": "markdown",
   "metadata": {},
   "source": [
    "---\n",
    "\n",
    "## Step 3: Test a Model on New Images\n",
    "\n",
    "To give yourself more insight into how your model is working, download at least five pictures of German traffic signs from the web and use your model to predict the traffic sign type.\n",
    "\n",
    "You may find `signnames.csv` useful as it contains mappings from the class id (integer) to the actual sign name."
   ]
  },
  {
   "cell_type": "markdown",
   "metadata": {},
   "source": [
    "### Load and Output the Images"
   ]
  },
  {
   "cell_type": "code",
   "execution_count": null,
   "metadata": {
    "collapsed": true
   },
   "outputs": [],
   "source": [
    "### Load the images and plot them here.\n",
    "### Feel free to use as many code cells as needed."
   ]
  },
  {
   "cell_type": "markdown",
   "metadata": {},
   "source": [
    "### Predict the Sign Type for Each Image"
   ]
  },
  {
   "cell_type": "code",
   "execution_count": null,
   "metadata": {
    "collapsed": true
   },
   "outputs": [],
   "source": [
    "### Run the predictions here and use the model to output the prediction for each image.\n",
    "### Make sure to pre-process the images with the same pre-processing pipeline used earlier.\n",
    "### Feel free to use as many code cells as needed."
   ]
  },
  {
   "cell_type": "markdown",
   "metadata": {},
   "source": [
    "### Analyze Performance"
   ]
  },
  {
   "cell_type": "code",
   "execution_count": null,
   "metadata": {
    "collapsed": true
   },
   "outputs": [],
   "source": [
    "### Calculate the accuracy for these 5 new images. \n",
    "### For example, if the model predicted 1 out of 5 signs correctly, it's 20% accurate on these new images.\n",
    "\n"
   ]
  }
 ],
 "metadata": {
  "kernelspec": {
   "display_name": "Python 3",
   "language": "python",
   "name": "python3"
  },
  "language_info": {
   "codemirror_mode": {
    "name": "ipython",
    "version": 3
   },
   "file_extension": ".py",
   "mimetype": "text/x-python",
   "name": "python",
   "nbconvert_exporter": "python",
   "pygments_lexer": "ipython3",
   "version": "3.5.2"
  },
  "widgets": {
   "state": {},
   "version": "1.1.2"
  }
 },
 "nbformat": 4,
 "nbformat_minor": 2
}
